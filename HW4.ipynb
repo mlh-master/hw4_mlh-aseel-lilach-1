{
 "cells": [
  {
   "cell_type": "markdown",
   "metadata": {},
   "source": [
    "# HW: X-ray images classification\n",
    "--------------------------------------"
   ]
  },
  {
   "cell_type": "markdown",
   "metadata": {},
   "source": [
    "Before you begin, open Mobaxterm and connect to triton with the user and password you were give with. Activate the environment `2ndPaper` and then type the command `pip install scikit-image`."
   ]
  },
  {
   "cell_type": "markdown",
   "metadata": {},
   "source": [
    "In this assignment you will be dealing with classification of 32X32 X-ray images of the chest. The image can be classified into one of four options: lungs (l), clavicles (c), and heart (h) and background (b). Even though those labels are dependent, we will treat this task as multiclass and not as multilabel. The dataset for this assignment is located on a shared folder on triton (`/MLdata/MLcourse/X_ray/'`)."
   ]
  },
  {
   "cell_type": "code",
   "execution_count": 1,
   "metadata": {
    "pycharm": {
     "is_executing": false
    }
   },
   "outputs": [],
   "source": [
    "import os\n",
    "import numpy as np\n",
    "from tensorflow.keras.layers import Dense, MaxPool2D, Conv2D, Dropout\n",
    "from tensorflow.keras.layers import Flatten, InputLayer\n",
    "from tensorflow.keras.layers import BatchNormalization\n",
    "from tensorflow.keras.models import Sequential, load_model\n",
    "from tensorflow.keras.optimizers import *\n",
    "\n",
    "from tensorflow.keras.initializers import Constant\n",
    "from tensorflow.keras.datasets import fashion_mnist\n",
    "import tensorflow.keras.backend as K\n",
    "from tensorflow.keras import regularizers\n",
    "from tensorflow import keras\n",
    "from sklearn.model_selection import train_test_split\n",
    "from tensorflow.keras.layers import *\n",
    "from skimage.io import imread\n",
    "\n",
    "from skimage.transform import rescale, resize, downscale_local_mean\n",
    "%matplotlib inline\n",
    "import matplotlib as mpl\n",
    "import matplotlib.pyplot as plt\n",
    "mpl.rc('axes', labelsize=14)\n",
    "mpl.rc('xtick', labelsize=12)\n",
    "mpl.rc('ytick', labelsize=12)\n",
    "os.environ[\"CUDA_DEVICE_ORDER\"]=\"PCI_BUS_ID\" \n",
    "os.environ[\"CUDA_VISIBLE_DEVICES\"]=\"2\""
   ]
  },
  {
   "cell_type": "code",
   "execution_count": 2,
   "metadata": {
    "pycharm": {
     "is_executing": false
    }
   },
   "outputs": [],
   "source": [
    "import tensorflow as tf\n",
    "config = tf.compat.v1.ConfigProto(gpu_options =\n",
    "                         tf.compat.v1.GPUOptions(per_process_gpu_memory_fraction=0.8)\n",
    "# device_count = {'GPU': 1}\n",
    ")\n",
    "config.gpu_options.allow_growth = True\n",
    "session = tf.compat.v1.Session(config=config)\n",
    "tf.compat.v1.keras.backend.set_session(session)"
   ]
  },
  {
   "cell_type": "code",
   "execution_count": 3,
   "metadata": {
    "pycharm": {
     "is_executing": false
    }
   },
   "outputs": [],
   "source": [
    "def preprocess(datapath):\n",
    "    # This part reads the images\n",
    "    classes = ['b','c','l','h']\n",
    "    imagelist = [fn for fn in os.listdir(datapath)]\n",
    "    N = len(imagelist)\n",
    "    num_classes = len(classes)\n",
    "    images = np.zeros((N, 32, 32, 1))\n",
    "    Y = np.zeros((N,num_classes))\n",
    "    ii=0\n",
    "    for fn in imagelist:\n",
    "\n",
    "        src = imread(os.path.join(datapath, fn),1)\n",
    "        img = resize(src,(32,32),order = 3)\n",
    "        \n",
    "        images[ii,:,:,0] = img\n",
    "        cc = -1\n",
    "        for cl in range(len(classes)):\n",
    "            if fn[-5] == classes[cl]:\n",
    "                cc = cl\n",
    "        Y[ii,cc]=1\n",
    "        ii += 1\n",
    "\n",
    "    BaseImages = images\n",
    "    BaseY = Y\n",
    "    return BaseImages, BaseY"
   ]
  },
  {
   "cell_type": "code",
   "execution_count": 4,
   "metadata": {},
   "outputs": [],
   "source": [
    "def preprocess_train_and_val(datapath):\n",
    "    # This part reads the images\n",
    "    classes = ['b','c','l','h']\n",
    "    imagelist = [fn for fn in os.listdir(datapath)]\n",
    "    N = len(imagelist)\n",
    "    num_classes = len(classes)\n",
    "    images = np.zeros((N, 32, 32, 1))\n",
    "    Y = np.zeros((N,num_classes))\n",
    "    ii=0\n",
    "    for fn in imagelist:\n",
    "\n",
    "        images[ii,:,:,0] = imread(os.path.join(datapath, fn),1)\n",
    "        cc = -1\n",
    "        for cl in range(len(classes)):\n",
    "            if fn[-5] == classes[cl]:\n",
    "                cc = cl\n",
    "        Y[ii,cc]=1\n",
    "        ii += 1\n",
    "\n",
    "    return images, Y"
   ]
  },
  {
   "cell_type": "code",
   "execution_count": 5,
   "metadata": {},
   "outputs": [],
   "source": [
    "#Loading the data for training and validation:\n",
    "src_data = '/MLdata/MLcourse/X_ray/'\n",
    "train_path = src_data + 'train'\n",
    "val_path = src_data + 'validation'\n",
    "test_path = src_data + 'test'\n",
    "BaseX_train , BaseY_train = preprocess_train_and_val(train_path)\n",
    "BaseX_val , BaseY_val = preprocess_train_and_val(val_path)\n",
    "X_test, Y_test = preprocess(test_path)"
   ]
  },
  {
   "cell_type": "code",
   "execution_count": null,
   "metadata": {},
   "outputs": [],
   "source": [
    "keras.backend.clear_session()"
   ]
  },
  {
   "cell_type": "markdown",
   "metadata": {},
   "source": [
    "### PART 1: Fully connected layers \n",
    "--------------------------------------"
   ]
  },
  {
   "cell_type": "markdown",
   "metadata": {},
   "source": [
    "---\n",
    "<span style=\"color:red\">***Task 1:***</span> *NN with fully connected layers. \n",
    "\n",
    "Elaborate a NN with 2 hidden fully connected layers with 300, 150 neurons and 4 neurons for classification. Use ReLU activation functions for the hidden layers and He_normal for initialization. Don't forget to flatten your image before feedforward to the first dense layer. Name the model `model_relu`.*\n",
    "\n",
    "---"
   ]
  },
  {
   "cell_type": "code",
   "execution_count": 6,
   "metadata": {},
   "outputs": [],
   "source": [
    "#--------------------------Impelment your code here:-------------------------------------\n",
    "keras.backend.clear_session()\n",
    "\n",
    "model_relu = Sequential(name=\"model_relu\")\n",
    "model_relu.add(Flatten(input_shape=(32,32,1)))\n",
    "\n",
    "model_relu.add(Dense(300, kernel_initializer='he_normal'))\n",
    "model_relu.add(Activation('relu', name='Relu_1'))                            \n",
    "\n",
    "model_relu.add(Dense(150, kernel_initializer='he_normal'))\n",
    "model_relu.add(Activation('relu', name='Relu_2'))\n",
    "\n",
    "model_relu.add(Dense(4, kernel_initializer='he_normal'))\n",
    "model_relu.add(Activation('softmax'))\n",
    "#----------------------------------------------------------------------------------------"
   ]
  },
  {
   "cell_type": "code",
   "execution_count": 7,
   "metadata": {},
   "outputs": [
    {
     "name": "stdout",
     "output_type": "stream",
     "text": [
      "Model: \"model_relu\"\n",
      "_________________________________________________________________\n",
      "Layer (type)                 Output Shape              Param #   \n",
      "=================================================================\n",
      "flatten (Flatten)            (None, 1024)              0         \n",
      "_________________________________________________________________\n",
      "dense (Dense)                (None, 300)               307500    \n",
      "_________________________________________________________________\n",
      "Relu_1 (Activation)          (None, 300)               0         \n",
      "_________________________________________________________________\n",
      "dense_1 (Dense)              (None, 150)               45150     \n",
      "_________________________________________________________________\n",
      "Relu_2 (Activation)          (None, 150)               0         \n",
      "_________________________________________________________________\n",
      "dense_2 (Dense)              (None, 4)                 604       \n",
      "_________________________________________________________________\n",
      "activation (Activation)      (None, 4)                 0         \n",
      "=================================================================\n",
      "Total params: 353,254\n",
      "Trainable params: 353,254\n",
      "Non-trainable params: 0\n",
      "_________________________________________________________________\n"
     ]
    }
   ],
   "source": [
    "model_relu.summary()"
   ]
  },
  {
   "cell_type": "code",
   "execution_count": 8,
   "metadata": {},
   "outputs": [],
   "source": [
    "#Inputs: \n",
    "input_shape = (32,32,1)\n",
    "learn_rate = 1e-5\n",
    "decay = 0\n",
    "batch_size = 64\n",
    "epochs = 25\n",
    "\n",
    "#Define your optimizar parameters:\n",
    "AdamOpt = Adam(lr=learn_rate,decay=decay)\n"
   ]
  },
  {
   "cell_type": "markdown",
   "metadata": {},
   "source": [
    "Compile the model with the optimizer above, accuracy metric and adequate loss for multiclass task. Train your model on the training set and evaluate the model on the testing set. Print the accuracy and loss over the testing set."
   ]
  },
  {
   "cell_type": "code",
   "execution_count": 9,
   "metadata": {},
   "outputs": [
    {
     "name": "stdout",
     "output_type": "stream",
     "text": [
      "Epoch 1/25\n",
      "102/102 - 1s - loss: 1.3077 - accuracy: 0.4435 - val_loss: 1.2364 - val_accuracy: 0.4857\n",
      "Epoch 2/25\n",
      "102/102 - 1s - loss: 1.1325 - accuracy: 0.6114 - val_loss: 1.1272 - val_accuracy: 0.6057\n",
      "Epoch 3/25\n",
      "102/102 - 0s - loss: 1.0248 - accuracy: 0.6659 - val_loss: 1.0536 - val_accuracy: 0.6229\n",
      "Epoch 4/25\n",
      "102/102 - 0s - loss: 0.9552 - accuracy: 0.7034 - val_loss: 1.0013 - val_accuracy: 0.6229\n",
      "Epoch 5/25\n",
      "102/102 - 0s - loss: 0.9028 - accuracy: 0.7268 - val_loss: 0.9632 - val_accuracy: 0.6400\n",
      "Epoch 6/25\n",
      "102/102 - 0s - loss: 0.8622 - accuracy: 0.7444 - val_loss: 0.9302 - val_accuracy: 0.6686\n",
      "Epoch 7/25\n",
      "102/102 - 1s - loss: 0.8288 - accuracy: 0.7553 - val_loss: 0.9022 - val_accuracy: 0.6743\n",
      "Epoch 8/25\n",
      "102/102 - 1s - loss: 0.7987 - accuracy: 0.7665 - val_loss: 0.8841 - val_accuracy: 0.6743\n",
      "Epoch 9/25\n",
      "102/102 - 1s - loss: 0.7740 - accuracy: 0.7740 - val_loss: 0.8659 - val_accuracy: 0.6800\n",
      "Epoch 10/25\n",
      "102/102 - 1s - loss: 0.7497 - accuracy: 0.7825 - val_loss: 0.8510 - val_accuracy: 0.6686\n",
      "Epoch 11/25\n",
      "102/102 - 1s - loss: 0.7284 - accuracy: 0.7919 - val_loss: 0.8436 - val_accuracy: 0.6800\n",
      "Epoch 12/25\n",
      "102/102 - 1s - loss: 0.7088 - accuracy: 0.7967 - val_loss: 0.8365 - val_accuracy: 0.6857\n",
      "Epoch 13/25\n",
      "102/102 - 1s - loss: 0.6900 - accuracy: 0.8006 - val_loss: 0.8293 - val_accuracy: 0.6914\n",
      "Epoch 14/25\n",
      "102/102 - 1s - loss: 0.6734 - accuracy: 0.8041 - val_loss: 0.8247 - val_accuracy: 0.6914\n",
      "Epoch 15/25\n",
      "102/102 - 0s - loss: 0.6563 - accuracy: 0.8083 - val_loss: 0.8229 - val_accuracy: 0.6971\n",
      "Epoch 16/25\n",
      "102/102 - 1s - loss: 0.6416 - accuracy: 0.8128 - val_loss: 0.8206 - val_accuracy: 0.7029\n",
      "Epoch 17/25\n",
      "102/102 - 0s - loss: 0.6275 - accuracy: 0.8148 - val_loss: 0.8173 - val_accuracy: 0.6971\n",
      "Epoch 18/25\n",
      "102/102 - 1s - loss: 0.6126 - accuracy: 0.8197 - val_loss: 0.8121 - val_accuracy: 0.7029\n",
      "Epoch 19/25\n",
      "102/102 - 1s - loss: 0.5994 - accuracy: 0.8234 - val_loss: 0.8109 - val_accuracy: 0.6971\n",
      "Epoch 20/25\n",
      "102/102 - 1s - loss: 0.5864 - accuracy: 0.8273 - val_loss: 0.8087 - val_accuracy: 0.6971\n",
      "Epoch 21/25\n",
      "102/102 - 1s - loss: 0.5740 - accuracy: 0.8304 - val_loss: 0.8084 - val_accuracy: 0.6971\n",
      "Epoch 22/25\n",
      "102/102 - 1s - loss: 0.5626 - accuracy: 0.8323 - val_loss: 0.8079 - val_accuracy: 0.6800\n",
      "Epoch 23/25\n",
      "102/102 - 0s - loss: 0.5517 - accuracy: 0.8332 - val_loss: 0.8078 - val_accuracy: 0.6800\n",
      "Epoch 24/25\n",
      "102/102 - 1s - loss: 0.5421 - accuracy: 0.8395 - val_loss: 0.8064 - val_accuracy: 0.6857\n",
      "Epoch 25/25\n",
      "102/102 - 0s - loss: 0.5310 - accuracy: 0.8390 - val_loss: 0.8058 - val_accuracy: 0.6686\n"
     ]
    },
    {
     "data": {
      "image/png": "[encoded data removed]",
      "text/plain": [
       "<Figure size 864x360 with 2 Axes>"
      ]
     },
     "metadata": {
      "needs_background": "light"
     },
     "output_type": "display_data"
    }
   ],
   "source": [
    "#--------------------------Impelment your code here:-------------------------------------\n",
    "\n",
    "model_relu.compile(loss='categorical_crossentropy', metrics=['accuracy'], optimizer=AdamOpt)\n",
    "history_1 = model_relu.fit(BaseX_train, BaseY_train, batch_size=batch_size, epochs=epochs, verbose=2, validation_data=(X_test, Y_test))\n",
    "\n",
    "fig, axs = plt.subplots(1, 2, figsize=(12,5))\n",
    "\n",
    "axs[0].plot(history_1.history['accuracy'])\n",
    "axs[0].plot(history_1.history['val_accuracy'])\n",
    "axs[0].set_title('model accuracy')\n",
    "axs[0].set_ylabel('accuracy')\n",
    "axs[0].set_xlabel('epoch')\n",
    "axs[0].legend(['train', 'test'], loc='lower right')\n",
    "\n",
    "axs[1].plot(history_1.history['loss'])\n",
    "axs[1].plot(history_1.history['val_loss'])\n",
    "axs[1].set_title('model loss')\n",
    "axs[1].set_ylabel('loss')\n",
    "axs[1].set_xlabel('epoch')\n",
    "axs[1].legend(['train', 'test'], loc='upper right')\n",
    "\n",
    "plt.tight_layout()\n",
    "#----------------------------------------------------------------------------------------"
   ]
  },
  {
   "cell_type": "markdown",
   "metadata": {},
   "source": [
    "---\n",
    "<span style=\"color:red\">***Task 2:***</span> *Activation functions.* \n",
    "\n",
    "Change the activation functions to LeakyRelu or tanh or sigmoid. Name the new model `new_a_model`. Explain how it can affect the model.*\n",
    "\n",
    "---"
   ]
  },
  {
   "cell_type": "code",
   "execution_count": 38,
   "metadata": {},
   "outputs": [],
   "source": [
    "#--------------------------Impelment your code here:-------------------------------------\n",
    "keras.backend.clear_session()\n",
    "\n",
    "new_a_model = Sequential(name=\"model_LeakyRelu\")\n",
    "new_a_model.add(Flatten(input_shape=(32,32,1)))\n",
    "\n",
    "new_a_model.add(Dense(300, kernel_initializer='he_normal'))\n",
    "new_a_model.add(LeakyReLU(alpha=0.01))                            \n",
    "\n",
    "new_a_model.add(Dense(150, kernel_initializer='he_normal'))\n",
    "new_a_model.add(LeakyReLU(alpha=0.01))\n",
    "\n",
    "new_a_model.add(Dense(4, kernel_initializer='he_normal'))\n",
    "new_a_model.add(Activation('softmax'))\n",
    "#----------------------------------------------------------------------------------------"
   ]
  },
  {
   "cell_type": "code",
   "execution_count": 39,
   "metadata": {},
   "outputs": [
    {
     "name": "stdout",
     "output_type": "stream",
     "text": [
      "Model: \"model_LeakyRelu\"\n",
      "_________________________________________________________________\n",
      "Layer (type)                 Output Shape              Param #   \n",
      "=================================================================\n",
      "flatten (Flatten)            (None, 1024)              0         \n",
      "_________________________________________________________________\n",
      "dense (Dense)                (None, 300)               307500    \n",
      "_________________________________________________________________\n",
      "leaky_re_lu (LeakyReLU)      (None, 300)               0         \n",
      "_________________________________________________________________\n",
      "dense_1 (Dense)              (None, 150)               45150     \n",
      "_________________________________________________________________\n",
      "leaky_re_lu_1 (LeakyReLU)    (None, 150)               0         \n",
      "_________________________________________________________________\n",
      "dense_2 (Dense)              (None, 4)                 604       \n",
      "_________________________________________________________________\n",
      "activation (Activation)      (None, 4)                 0         \n",
      "=================================================================\n",
      "Total params: 353,254\n",
      "Trainable params: 353,254\n",
      "Non-trainable params: 0\n",
      "_________________________________________________________________\n"
     ]
    }
   ],
   "source": [
    "new_a_model.summary()"
   ]
  },
  {
   "cell_type": "markdown",
   "metadata": {},
   "source": [
    "---\n",
    "<span style=\"color:red\">***Task 3:***</span> *Number of epochs.* \n",
    "\n",
    "Train the new model using 25 and 40 epochs. What difference does it makes in term of performance? Remember to save the compiled model for having initialized weights for every run as we did in tutorial 12. Evaluate each trained model on the test set*\n",
    "\n",
    "---"
   ]
  },
  {
   "cell_type": "code",
   "execution_count": 40,
   "metadata": {},
   "outputs": [],
   "source": [
    "#Inputs: \n",
    "input_shape = (32,32,1)\n",
    "learn_rate = 1e-5\n",
    "decay = 0\n",
    "batch_size = 64\n",
    "epochs = 25\n",
    "\n",
    "#Defining the optimizar parameters:\n",
    "AdamOpt = Adam(lr=learn_rate,decay=decay)\n"
   ]
  },
  {
   "cell_type": "code",
   "execution_count": 41,
   "metadata": {},
   "outputs": [
    {
     "name": "stdout",
     "output_type": "stream",
     "text": [
      "Epoch 1/25\n",
      "102/102 - 1s - loss: 1.3784 - accuracy: 0.3542 - val_loss: 1.2843 - val_accuracy: 0.4114\n",
      "Epoch 2/25\n",
      "102/102 - 1s - loss: 1.1549 - accuracy: 0.5670 - val_loss: 1.1785 - val_accuracy: 0.4857\n",
      "Epoch 3/25\n",
      "102/102 - 1s - loss: 1.0513 - accuracy: 0.6469 - val_loss: 1.1048 - val_accuracy: 0.5486\n",
      "Epoch 4/25\n",
      "102/102 - 1s - loss: 0.9839 - accuracy: 0.6881 - val_loss: 1.0504 - val_accuracy: 0.5714\n",
      "Epoch 5/25\n",
      "102/102 - 1s - loss: 0.9359 - accuracy: 0.7099 - val_loss: 1.0220 - val_accuracy: 0.5943\n",
      "Epoch 6/25\n",
      "102/102 - 1s - loss: 0.8981 - accuracy: 0.7278 - val_loss: 0.9797 - val_accuracy: 0.6114\n",
      "Epoch 7/25\n",
      "102/102 - 1s - loss: 0.8653 - accuracy: 0.7335 - val_loss: 0.9572 - val_accuracy: 0.6286\n",
      "Epoch 8/25\n",
      "102/102 - 1s - loss: 0.8372 - accuracy: 0.7481 - val_loss: 0.9300 - val_accuracy: 0.6400\n",
      "Epoch 9/25\n",
      "102/102 - 1s - loss: 0.8105 - accuracy: 0.7553 - val_loss: 0.9072 - val_accuracy: 0.6457\n",
      "Epoch 10/25\n",
      "102/102 - 1s - loss: 0.7859 - accuracy: 0.7648 - val_loss: 0.8904 - val_accuracy: 0.6629\n",
      "Epoch 11/25\n",
      "102/102 - 1s - loss: 0.7642 - accuracy: 0.7709 - val_loss: 0.8802 - val_accuracy: 0.6686\n",
      "Epoch 12/25\n",
      "102/102 - 1s - loss: 0.7432 - accuracy: 0.7765 - val_loss: 0.8721 - val_accuracy: 0.6686\n",
      "Epoch 13/25\n",
      "102/102 - 1s - loss: 0.7242 - accuracy: 0.7793 - val_loss: 0.8560 - val_accuracy: 0.6686\n",
      "Epoch 14/25\n",
      "102/102 - 1s - loss: 0.7055 - accuracy: 0.7896 - val_loss: 0.8454 - val_accuracy: 0.6857\n",
      "Epoch 15/25\n",
      "102/102 - 1s - loss: 0.6876 - accuracy: 0.7935 - val_loss: 0.8338 - val_accuracy: 0.6686\n",
      "Epoch 16/25\n",
      "102/102 - 1s - loss: 0.6707 - accuracy: 0.7981 - val_loss: 0.8267 - val_accuracy: 0.6743\n",
      "Epoch 17/25\n",
      "102/102 - 1s - loss: 0.6541 - accuracy: 0.8035 - val_loss: 0.8274 - val_accuracy: 0.6629\n",
      "Epoch 18/25\n",
      "102/102 - 1s - loss: 0.6395 - accuracy: 0.8063 - val_loss: 0.8163 - val_accuracy: 0.6971\n",
      "Epoch 19/25\n",
      "102/102 - 1s - loss: 0.6253 - accuracy: 0.8117 - val_loss: 0.8109 - val_accuracy: 0.6914\n",
      "Epoch 20/25\n",
      "102/102 - 1s - loss: 0.6096 - accuracy: 0.8133 - val_loss: 0.8089 - val_accuracy: 0.6914\n",
      "Epoch 21/25\n",
      "102/102 - 1s - loss: 0.5967 - accuracy: 0.8182 - val_loss: 0.8059 - val_accuracy: 0.6971\n",
      "Epoch 22/25\n",
      "102/102 - 1s - loss: 0.5844 - accuracy: 0.8233 - val_loss: 0.8033 - val_accuracy: 0.6914\n",
      "Epoch 23/25\n",
      "102/102 - 1s - loss: 0.5713 - accuracy: 0.8276 - val_loss: 0.8040 - val_accuracy: 0.6971\n",
      "Epoch 24/25\n",
      "102/102 - 1s - loss: 0.5604 - accuracy: 0.8315 - val_loss: 0.7994 - val_accuracy: 0.6914\n",
      "Epoch 25/25\n",
      "102/102 - 1s - loss: 0.5496 - accuracy: 0.8349 - val_loss: 0.8015 - val_accuracy: 0.6914\n"
     ]
    },
    {
     "data": {
      "image/png": "[encoded data removed]",
      "text/plain": [
       "<Figure size 864x360 with 2 Axes>"
      ]
     },
     "metadata": {
      "needs_background": "light"
     },
     "output_type": "display_data"
    }
   ],
   "source": [
    "#--------------------------Impelment your code here:-------------------------------------\n",
    "\n",
    "new_a_model.compile(loss='categorical_crossentropy', metrics=['accuracy'], optimizer=AdamOpt)\n",
    "\n",
    "if not(\"results\" in os.listdir()):\n",
    "    os.mkdir(\"results\")\n",
    "save_dir = \"results/\"\n",
    "model_name = \"model_LeakyRelu.h5\"\n",
    "model_path = os.path.join(save_dir, model_name)\n",
    "new_a_model.save(model_path)\n",
    "\n",
    "history_2 = new_a_model.fit(BaseX_train, BaseY_train, batch_size=batch_size, epochs=epochs, verbose=2, validation_data=(X_test, Y_test))\n",
    "\n",
    "fig, axs = plt.subplots(1, 2, figsize=(12,5))\n",
    "\n",
    "axs[0].plot(history_2.history['accuracy'])\n",
    "axs[0].plot(history_2.history['val_accuracy'])\n",
    "axs[0].set_title('model accuracy')\n",
    "axs[0].set_ylabel('accuracy')\n",
    "axs[0].set_xlabel('epoch')\n",
    "axs[0].legend(['train', 'test'], loc='lower right')\n",
    "\n",
    "axs[1].plot(history_2.history['loss'])\n",
    "axs[1].plot(history_2.history['val_loss'])\n",
    "axs[1].set_title('model loss')\n",
    "axs[1].set_ylabel('loss')\n",
    "axs[1].set_xlabel('epoch')\n",
    "axs[1].legend(['train', 'test'], loc='upper right')\n",
    "\n",
    "plt.tight_layout()\n",
    "#-----------------------------------------------------------------------------------------"
   ]
  },
  {
   "cell_type": "code",
   "execution_count": 44,
   "metadata": {},
   "outputs": [],
   "source": [
    "#Inputs: \n",
    "input_shape = (32,32,1)\n",
    "learn_rate = 1e-5\n",
    "decay = 0\n",
    "batch_size = 64\n",
    "epochs = 40\n",
    "\n",
    "#Defining the optimizar parameters:\n",
    "AdamOpt = Adam(lr=learn_rate,decay=decay)\n"
   ]
  },
  {
   "cell_type": "code",
   "execution_count": 45,
   "metadata": {},
   "outputs": [
    {
     "name": "stdout",
     "output_type": "stream",
     "text": [
      "Epoch 1/40\n",
      "102/102 - 1s - loss: 1.3658 - accuracy: 0.3723 - val_loss: 1.2702 - val_accuracy: 0.3886\n",
      "Epoch 2/40\n",
      "102/102 - 1s - loss: 1.1490 - accuracy: 0.5721 - val_loss: 1.1793 - val_accuracy: 0.4857\n",
      "Epoch 3/40\n",
      "102/102 - 1s - loss: 1.0491 - accuracy: 0.6423 - val_loss: 1.1003 - val_accuracy: 0.5429\n",
      "Epoch 4/40\n",
      "102/102 - 1s - loss: 0.9817 - accuracy: 0.6917 - val_loss: 1.0497 - val_accuracy: 0.5600\n",
      "Epoch 5/40\n",
      "102/102 - 1s - loss: 0.9338 - accuracy: 0.7138 - val_loss: 1.0181 - val_accuracy: 0.5886\n",
      "Epoch 6/40\n",
      "102/102 - 1s - loss: 0.8960 - accuracy: 0.7291 - val_loss: 0.9771 - val_accuracy: 0.6229\n",
      "Epoch 7/40\n",
      "102/102 - 1s - loss: 0.8617 - accuracy: 0.7425 - val_loss: 0.9473 - val_accuracy: 0.6457\n",
      "Epoch 8/40\n",
      "102/102 - 1s - loss: 0.8327 - accuracy: 0.7492 - val_loss: 0.9211 - val_accuracy: 0.6571\n",
      "Epoch 9/40\n",
      "102/102 - 1s - loss: 0.8066 - accuracy: 0.7593 - val_loss: 0.9039 - val_accuracy: 0.6629\n",
      "Epoch 10/40\n",
      "102/102 - 1s - loss: 0.7832 - accuracy: 0.7661 - val_loss: 0.8874 - val_accuracy: 0.6857\n",
      "Epoch 11/40\n",
      "102/102 - 1s - loss: 0.7615 - accuracy: 0.7728 - val_loss: 0.8702 - val_accuracy: 0.6743\n",
      "Epoch 12/40\n",
      "102/102 - 1s - loss: 0.7414 - accuracy: 0.7776 - val_loss: 0.8646 - val_accuracy: 0.6686\n",
      "Epoch 13/40\n",
      "102/102 - 1s - loss: 0.7220 - accuracy: 0.7847 - val_loss: 0.8522 - val_accuracy: 0.6686\n",
      "Epoch 14/40\n",
      "102/102 - 1s - loss: 0.7042 - accuracy: 0.7905 - val_loss: 0.8417 - val_accuracy: 0.6800\n",
      "Epoch 15/40\n",
      "102/102 - 1s - loss: 0.6865 - accuracy: 0.7924 - val_loss: 0.8341 - val_accuracy: 0.6971\n",
      "Epoch 16/40\n",
      "102/102 - 1s - loss: 0.6700 - accuracy: 0.7975 - val_loss: 0.8224 - val_accuracy: 0.6800\n",
      "Epoch 17/40\n",
      "102/102 - 1s - loss: 0.6533 - accuracy: 0.8021 - val_loss: 0.8201 - val_accuracy: 0.6914\n",
      "Epoch 18/40\n",
      "102/102 - 1s - loss: 0.6389 - accuracy: 0.8051 - val_loss: 0.8177 - val_accuracy: 0.6857\n",
      "Epoch 19/40\n",
      "102/102 - 1s - loss: 0.6234 - accuracy: 0.8108 - val_loss: 0.8071 - val_accuracy: 0.6971\n",
      "Epoch 20/40\n",
      "102/102 - 1s - loss: 0.6085 - accuracy: 0.8167 - val_loss: 0.8046 - val_accuracy: 0.6914\n",
      "Epoch 21/40\n",
      "102/102 - 1s - loss: 0.5956 - accuracy: 0.8188 - val_loss: 0.8053 - val_accuracy: 0.6971\n",
      "Epoch 22/40\n",
      "102/102 - 1s - loss: 0.5832 - accuracy: 0.8230 - val_loss: 0.8038 - val_accuracy: 0.6914\n",
      "Epoch 23/40\n",
      "102/102 - 1s - loss: 0.5711 - accuracy: 0.8259 - val_loss: 0.7992 - val_accuracy: 0.6971\n",
      "Epoch 24/40\n",
      "102/102 - 1s - loss: 0.5606 - accuracy: 0.8293 - val_loss: 0.7936 - val_accuracy: 0.7029\n",
      "Epoch 25/40\n",
      "102/102 - 1s - loss: 0.5495 - accuracy: 0.8346 - val_loss: 0.7908 - val_accuracy: 0.6971\n",
      "Epoch 26/40\n",
      "102/102 - 1s - loss: 0.5397 - accuracy: 0.8398 - val_loss: 0.7896 - val_accuracy: 0.6971\n",
      "Epoch 27/40\n",
      "102/102 - 1s - loss: 0.5297 - accuracy: 0.8424 - val_loss: 0.7909 - val_accuracy: 0.7029\n",
      "Epoch 28/40\n",
      "102/102 - 1s - loss: 0.5209 - accuracy: 0.8448 - val_loss: 0.7969 - val_accuracy: 0.6914\n",
      "Epoch 29/40\n",
      "102/102 - 1s - loss: 0.5118 - accuracy: 0.8465 - val_loss: 0.7864 - val_accuracy: 0.6971\n",
      "Epoch 30/40\n",
      "102/102 - 1s - loss: 0.5032 - accuracy: 0.8502 - val_loss: 0.7861 - val_accuracy: 0.6971\n",
      "Epoch 31/40\n",
      "102/102 - 1s - loss: 0.4952 - accuracy: 0.8506 - val_loss: 0.7911 - val_accuracy: 0.6857\n",
      "Epoch 32/40\n",
      "102/102 - 1s - loss: 0.4863 - accuracy: 0.8530 - val_loss: 0.7860 - val_accuracy: 0.6857\n",
      "Epoch 33/40\n",
      "102/102 - 1s - loss: 0.4791 - accuracy: 0.8559 - val_loss: 0.7870 - val_accuracy: 0.6857\n",
      "Epoch 34/40\n",
      "102/102 - 1s - loss: 0.4731 - accuracy: 0.8570 - val_loss: 0.7865 - val_accuracy: 0.6800\n",
      "Epoch 35/40\n",
      "102/102 - 1s - loss: 0.4661 - accuracy: 0.8582 - val_loss: 0.7893 - val_accuracy: 0.6857\n",
      "Epoch 36/40\n",
      "102/102 - 1s - loss: 0.4596 - accuracy: 0.8608 - val_loss: 0.7870 - val_accuracy: 0.6800\n",
      "Epoch 37/40\n",
      "102/102 - 1s - loss: 0.4536 - accuracy: 0.8628 - val_loss: 0.7902 - val_accuracy: 0.6857\n",
      "Epoch 38/40\n",
      "102/102 - 1s - loss: 0.4481 - accuracy: 0.8642 - val_loss: 0.7899 - val_accuracy: 0.6857\n",
      "Epoch 39/40\n",
      "102/102 - 1s - loss: 0.4416 - accuracy: 0.8675 - val_loss: 0.7890 - val_accuracy: 0.6743\n",
      "Epoch 40/40\n",
      "102/102 - 1s - loss: 0.4368 - accuracy: 0.8684 - val_loss: 0.7913 - val_accuracy: 0.6857\n"
     ]
    },
    {
     "data": {
      "image/png": "[encoded data removed]",
      "text/plain": [
       "<Figure size 864x360 with 2 Axes>"
      ]
     },
     "metadata": {
      "needs_background": "light"
     },
     "output_type": "display_data"
    }
   ],
   "source": [
    "#--------------------------Impelment your code here:-------------------------------------\n",
    "new_a_model = load_model(model_path) \n",
    "\n",
    "history_3 = new_a_model.fit(BaseX_train, BaseY_train, batch_size=batch_size, epochs=epochs, verbose=2, validation_data=(X_test, Y_test))\n",
    "\n",
    "fig, axs = plt.subplots(1, 2, figsize=(12,5))\n",
    "\n",
    "axs[0].plot(history_3.history['accuracy'])\n",
    "axs[0].plot(history_3.history['val_accuracy'])\n",
    "axs[0].set_title('model accuracy')\n",
    "axs[0].set_ylabel('accuracy')\n",
    "axs[0].set_xlabel('epoch')\n",
    "axs[0].legend(['train', 'test'], loc='lower right')\n",
    "\n",
    "axs[1].plot(history_3.history['loss'])\n",
    "axs[1].plot(history_3.history['val_loss'])\n",
    "axs[1].set_title('model loss')\n",
    "axs[1].set_ylabel('loss')\n",
    "axs[1].set_xlabel('epoch')\n",
    "axs[1].legend(['train', 'test'], loc='upper right')\n",
    "\n",
    "plt.tight_layout()\n",
    "#-----------------------------------------------------------------------------------------"
   ]
  },
  {
   "cell_type": "markdown",
   "metadata": {},
   "source": [
    "---\n",
    "<span style=\"color:red\">***Task 4:***</span> *Mini-batches.* \n",
    "\n",
    "Build the `model_relu` again and run it with a batch size of 32 instead of 64. What are the advantages of the mini-batch vs. SGD?*\n",
    "\n",
    "---"
   ]
  },
  {
   "cell_type": "code",
   "execution_count": 46,
   "metadata": {},
   "outputs": [],
   "source": [
    "keras.backend.clear_session()"
   ]
  },
  {
   "cell_type": "code",
   "execution_count": 47,
   "metadata": {},
   "outputs": [],
   "source": [
    "#--------------------------Impelment your code here:-------------------------------------\n",
    "model_relu = Sequential(name=\"model_relu\")\n",
    "model_relu.add(Flatten(input_shape=(32,32,1)))\n",
    "\n",
    "model_relu.add(Dense(300, kernel_initializer='he_normal'))\n",
    "model_relu.add(Activation('relu', name='Relu_1'))                            \n",
    "\n",
    "model_relu.add(Dense(150, kernel_initializer='he_normal'))\n",
    "model_relu.add(Activation('relu', name='Relu_2'))\n",
    "\n",
    "model_relu.add(Dense(4, kernel_initializer='he_normal'))\n",
    "model_relu.add(Activation('softmax'))\n",
    "#----------------------------------------------------------------------------------------"
   ]
  },
  {
   "cell_type": "code",
   "execution_count": 48,
   "metadata": {},
   "outputs": [],
   "source": [
    "batch_size = 32\n",
    "epochs = 50\n",
    "\n",
    "#Define your optimizar parameters:\n",
    "AdamOpt = Adam(lr=learn_rate,decay=decay)\n"
   ]
  },
  {
   "cell_type": "code",
   "execution_count": 49,
   "metadata": {},
   "outputs": [
    {
     "name": "stdout",
     "output_type": "stream",
     "text": [
      "Epoch 1/50\n",
      "203/203 - 1s - loss: 1.3055 - accuracy: 0.3761 - val_loss: 1.2237 - val_accuracy: 0.4800\n",
      "Epoch 2/50\n",
      "203/203 - 1s - loss: 1.0634 - accuracy: 0.6571 - val_loss: 1.0857 - val_accuracy: 0.5886\n",
      "Epoch 3/50\n",
      "203/203 - 1s - loss: 0.9585 - accuracy: 0.7017 - val_loss: 1.0059 - val_accuracy: 0.6171\n",
      "Epoch 4/50\n",
      "203/203 - 1s - loss: 0.8877 - accuracy: 0.7346 - val_loss: 0.9571 - val_accuracy: 0.6286\n",
      "Epoch 5/50\n",
      "203/203 - 1s - loss: 0.8323 - accuracy: 0.7561 - val_loss: 0.9149 - val_accuracy: 0.6343\n",
      "Epoch 6/50\n",
      "203/203 - 1s - loss: 0.7884 - accuracy: 0.7712 - val_loss: 0.8849 - val_accuracy: 0.6400\n",
      "Epoch 7/50\n",
      "203/203 - 1s - loss: 0.7501 - accuracy: 0.7864 - val_loss: 0.8635 - val_accuracy: 0.6800\n",
      "Epoch 8/50\n",
      "203/203 - 1s - loss: 0.7146 - accuracy: 0.7952 - val_loss: 0.8438 - val_accuracy: 0.6857\n",
      "Epoch 9/50\n",
      "203/203 - 1s - loss: 0.6847 - accuracy: 0.8003 - val_loss: 0.8361 - val_accuracy: 0.6743\n",
      "Epoch 10/50\n",
      "203/203 - 1s - loss: 0.6575 - accuracy: 0.8078 - val_loss: 0.8219 - val_accuracy: 0.6743\n",
      "Epoch 11/50\n",
      "203/203 - 1s - loss: 0.6339 - accuracy: 0.8160 - val_loss: 0.8133 - val_accuracy: 0.6800\n",
      "Epoch 12/50\n",
      "203/203 - 1s - loss: 0.6126 - accuracy: 0.8200 - val_loss: 0.8107 - val_accuracy: 0.6629\n",
      "Epoch 13/50\n",
      "203/203 - 1s - loss: 0.5936 - accuracy: 0.8259 - val_loss: 0.8007 - val_accuracy: 0.6686\n",
      "Epoch 14/50\n",
      "203/203 - 1s - loss: 0.5752 - accuracy: 0.8318 - val_loss: 0.7945 - val_accuracy: 0.6800\n",
      "Epoch 15/50\n",
      "203/203 - 1s - loss: 0.5593 - accuracy: 0.8353 - val_loss: 0.7916 - val_accuracy: 0.6743\n",
      "Epoch 16/50\n",
      "203/203 - 1s - loss: 0.5440 - accuracy: 0.8373 - val_loss: 0.7869 - val_accuracy: 0.6743\n",
      "Epoch 17/50\n",
      "203/203 - 1s - loss: 0.5298 - accuracy: 0.8417 - val_loss: 0.7849 - val_accuracy: 0.6800\n",
      "Epoch 18/50\n",
      "203/203 - 1s - loss: 0.5160 - accuracy: 0.8477 - val_loss: 0.7825 - val_accuracy: 0.6686\n",
      "Epoch 19/50\n",
      "203/203 - 1s - loss: 0.5033 - accuracy: 0.8509 - val_loss: 0.7785 - val_accuracy: 0.6743\n",
      "Epoch 20/50\n",
      "203/203 - 1s - loss: 0.4918 - accuracy: 0.8534 - val_loss: 0.7769 - val_accuracy: 0.6800\n",
      "Epoch 21/50\n",
      "203/203 - 1s - loss: 0.4814 - accuracy: 0.8573 - val_loss: 0.7803 - val_accuracy: 0.6743\n",
      "Epoch 22/50\n",
      "203/203 - 1s - loss: 0.4722 - accuracy: 0.8570 - val_loss: 0.7806 - val_accuracy: 0.6800\n",
      "Epoch 23/50\n",
      "203/203 - 1s - loss: 0.4620 - accuracy: 0.8599 - val_loss: 0.7864 - val_accuracy: 0.6800\n",
      "Epoch 24/50\n",
      "203/203 - 1s - loss: 0.4531 - accuracy: 0.8627 - val_loss: 0.7791 - val_accuracy: 0.6800\n",
      "Epoch 25/50\n",
      "203/203 - 1s - loss: 0.4449 - accuracy: 0.8636 - val_loss: 0.7806 - val_accuracy: 0.6743\n",
      "Epoch 26/50\n",
      "203/203 - 1s - loss: 0.4361 - accuracy: 0.8664 - val_loss: 0.7828 - val_accuracy: 0.6857\n",
      "Epoch 27/50\n",
      "203/203 - 1s - loss: 0.4287 - accuracy: 0.8679 - val_loss: 0.7795 - val_accuracy: 0.6743\n",
      "Epoch 28/50\n",
      "203/203 - 1s - loss: 0.4213 - accuracy: 0.8698 - val_loss: 0.7805 - val_accuracy: 0.6857\n",
      "Epoch 29/50\n",
      "203/203 - 1s - loss: 0.4133 - accuracy: 0.8727 - val_loss: 0.7808 - val_accuracy: 0.6800\n",
      "Epoch 30/50\n",
      "203/203 - 1s - loss: 0.4071 - accuracy: 0.8743 - val_loss: 0.7813 - val_accuracy: 0.6857\n",
      "Epoch 31/50\n",
      "203/203 - 1s - loss: 0.4012 - accuracy: 0.8767 - val_loss: 0.7869 - val_accuracy: 0.6914\n",
      "Epoch 32/50\n",
      "203/203 - 1s - loss: 0.3951 - accuracy: 0.8801 - val_loss: 0.7933 - val_accuracy: 0.6857\n",
      "Epoch 33/50\n",
      "203/203 - 1s - loss: 0.3893 - accuracy: 0.8758 - val_loss: 0.7940 - val_accuracy: 0.6743\n",
      "Epoch 34/50\n",
      "203/203 - 1s - loss: 0.3832 - accuracy: 0.8808 - val_loss: 0.7935 - val_accuracy: 0.6743\n",
      "Epoch 35/50\n",
      "203/203 - 1s - loss: 0.3799 - accuracy: 0.8821 - val_loss: 0.7933 - val_accuracy: 0.6914\n",
      "Epoch 36/50\n",
      "203/203 - 1s - loss: 0.3731 - accuracy: 0.8834 - val_loss: 0.8022 - val_accuracy: 0.6743\n",
      "Epoch 37/50\n",
      "203/203 - 1s - loss: 0.3688 - accuracy: 0.8851 - val_loss: 0.7984 - val_accuracy: 0.6800\n",
      "Epoch 38/50\n",
      "203/203 - 1s - loss: 0.3637 - accuracy: 0.8868 - val_loss: 0.8105 - val_accuracy: 0.6800\n",
      "Epoch 39/50\n",
      "203/203 - 1s - loss: 0.3602 - accuracy: 0.8855 - val_loss: 0.7984 - val_accuracy: 0.6629\n",
      "Epoch 40/50\n",
      "203/203 - 1s - loss: 0.3553 - accuracy: 0.8889 - val_loss: 0.8051 - val_accuracy: 0.6800\n",
      "Epoch 41/50\n",
      "203/203 - 1s - loss: 0.3519 - accuracy: 0.8899 - val_loss: 0.8055 - val_accuracy: 0.6629\n",
      "Epoch 42/50\n",
      "203/203 - 1s - loss: 0.3468 - accuracy: 0.8928 - val_loss: 0.8202 - val_accuracy: 0.6571\n",
      "Epoch 43/50\n",
      "203/203 - 1s - loss: 0.3431 - accuracy: 0.8940 - val_loss: 0.8230 - val_accuracy: 0.6686\n",
      "Epoch 44/50\n",
      "203/203 - 1s - loss: 0.3396 - accuracy: 0.8933 - val_loss: 0.8150 - val_accuracy: 0.6914\n",
      "Epoch 45/50\n",
      "203/203 - 1s - loss: 0.3367 - accuracy: 0.8928 - val_loss: 0.8309 - val_accuracy: 0.6629\n",
      "Epoch 46/50\n",
      "203/203 - 1s - loss: 0.3325 - accuracy: 0.8981 - val_loss: 0.8280 - val_accuracy: 0.6686\n",
      "Epoch 47/50\n",
      "203/203 - 1s - loss: 0.3294 - accuracy: 0.8959 - val_loss: 0.8267 - val_accuracy: 0.6743\n",
      "Epoch 48/50\n",
      "203/203 - 1s - loss: 0.3257 - accuracy: 0.8970 - val_loss: 0.8166 - val_accuracy: 0.6743\n",
      "Epoch 49/50\n",
      "203/203 - 1s - loss: 0.3232 - accuracy: 0.8984 - val_loss: 0.8298 - val_accuracy: 0.6743\n",
      "Epoch 50/50\n",
      "203/203 - 1s - loss: 0.3196 - accuracy: 0.8976 - val_loss: 0.8340 - val_accuracy: 0.6686\n"
     ]
    },
    {
     "data": {
      "image/png": "[encoded data removed]",
      "text/plain": [
       "<Figure size 864x360 with 2 Axes>"
      ]
     },
     "metadata": {
      "needs_background": "light"
     },
     "output_type": "display_data"
    }
   ],
   "source": [
    "#--------------------------Impelment your code here:-------------------------------------\n",
    "model_relu.compile(loss='categorical_crossentropy', metrics=['accuracy'], optimizer=AdamOpt)\n",
    "history_4 = model_relu.fit(BaseX_train, BaseY_train, batch_size=batch_size, epochs=epochs, verbose=2, validation_data=(X_test, Y_test))\n",
    "\n",
    "fig, axs = plt.subplots(1, 2, figsize=(12,5))\n",
    "\n",
    "axs[0].plot(history_4.history['accuracy'])\n",
    "axs[0].plot(history_4.history['val_accuracy'])\n",
    "axs[0].set_title('model accuracy')\n",
    "axs[0].set_ylabel('accuracy')\n",
    "axs[0].set_xlabel('epoch')\n",
    "axs[0].legend(['train', 'test'], loc='lower right')\n",
    "\n",
    "axs[1].plot(history_4.history['loss'])\n",
    "axs[1].plot(history_4.history['val_loss'])\n",
    "axs[1].set_title('model loss')\n",
    "axs[1].set_ylabel('loss')\n",
    "axs[1].set_xlabel('epoch')\n",
    "axs[1].legend(['train', 'test'], loc='upper right')\n",
    "\n",
    "plt.tight_layout()\n",
    "#----------------------------------------------------------------------------------------"
   ]
  },
  {
   "cell_type": "markdown",
   "metadata": {},
   "source": [
    "---\n",
    "<span style=\"color:red\">***Task 5:***</span> *Batch normalization.* \n",
    "\n",
    "Build the `new_a_model` again and add batch normalization layers. How does it impact your results?*\n",
    "\n",
    "---"
   ]
  },
  {
   "cell_type": "code",
   "execution_count": 61,
   "metadata": {},
   "outputs": [],
   "source": [
    "keras.backend.clear_session()"
   ]
  },
  {
   "cell_type": "code",
   "execution_count": 62,
   "metadata": {},
   "outputs": [],
   "source": [
    "#--------------------------Impelment your code here:-------------------------------------\n",
    "new_a_model = Sequential(name=\"model_LeakyRelu\")\n",
    "new_a_model.add(Flatten(input_shape=(32,32,1)))\n",
    "\n",
    "new_a_model.add(Dense(300, kernel_initializer='he_normal'))\n",
    "new_a_model.add(BatchNormalization(axis=1))\n",
    "new_a_model.add(LeakyReLU(alpha=0.01))                            \n",
    "\n",
    "new_a_model.add(Dense(150, kernel_initializer='he_normal'))\n",
    "new_a_model.add(BatchNormalization(axis=1))\n",
    "new_a_model.add(LeakyReLU(alpha=0.01))\n",
    "\n",
    "new_a_model.add(Dense(4, kernel_initializer='he_normal'))\n",
    "new_a_model.add(Activation('softmax'))\n",
    "#---------------------------------------------------------------------------------------"
   ]
  },
  {
   "cell_type": "code",
   "execution_count": 63,
   "metadata": {},
   "outputs": [],
   "source": [
    "batch_size = 32\n",
    "epochs = 50\n",
    "\n",
    "#Define your optimizar parameters:\n",
    "AdamOpt = Adam(lr=learn_rate,decay=decay)\n",
    "#Compile the network: \n",
    "new_a_model.compile(loss='categorical_crossentropy', metrics=['accuracy'], optimizer=AdamOpt)"
   ]
  },
  {
   "cell_type": "code",
   "execution_count": 64,
   "metadata": {},
   "outputs": [
    {
     "name": "stdout",
     "output_type": "stream",
     "text": [
      "Epoch 1/50\n",
      "203/203 - 1s - loss: 1.2153 - accuracy: 0.4886 - val_loss: 1.2250 - val_accuracy: 0.4114\n",
      "Epoch 2/50\n",
      "203/203 - 1s - loss: 0.8021 - accuracy: 0.7201 - val_loss: 1.0410 - val_accuracy: 0.6229\n",
      "Epoch 3/50\n",
      "203/203 - 1s - loss: 0.6532 - accuracy: 0.7924 - val_loss: 0.9407 - val_accuracy: 0.6457\n",
      "Epoch 4/50\n",
      "203/203 - 1s - loss: 0.5669 - accuracy: 0.8279 - val_loss: 0.9175 - val_accuracy: 0.6800\n",
      "Epoch 5/50\n",
      "203/203 - 1s - loss: 0.5102 - accuracy: 0.8457 - val_loss: 0.8841 - val_accuracy: 0.6629\n",
      "Epoch 6/50\n",
      "203/203 - 1s - loss: 0.4698 - accuracy: 0.8604 - val_loss: 0.8620 - val_accuracy: 0.6800\n",
      "Epoch 7/50\n",
      "203/203 - 1s - loss: 0.4387 - accuracy: 0.8693 - val_loss: 0.8587 - val_accuracy: 0.6857\n",
      "Epoch 8/50\n",
      "203/203 - 1s - loss: 0.4063 - accuracy: 0.8789 - val_loss: 0.8458 - val_accuracy: 0.6857\n",
      "Epoch 9/50\n",
      "203/203 - 1s - loss: 0.3880 - accuracy: 0.8806 - val_loss: 0.8452 - val_accuracy: 0.6800\n",
      "Epoch 10/50\n",
      "203/203 - 1s - loss: 0.3724 - accuracy: 0.8882 - val_loss: 0.8303 - val_accuracy: 0.6857\n",
      "Epoch 11/50\n",
      "203/203 - 1s - loss: 0.3568 - accuracy: 0.8939 - val_loss: 0.8227 - val_accuracy: 0.6971\n",
      "Epoch 12/50\n",
      "203/203 - 1s - loss: 0.3559 - accuracy: 0.8914 - val_loss: 0.8268 - val_accuracy: 0.6971\n",
      "Epoch 13/50\n",
      "203/203 - 1s - loss: 0.3327 - accuracy: 0.8982 - val_loss: 0.8265 - val_accuracy: 0.7086\n",
      "Epoch 14/50\n",
      "203/203 - 1s - loss: 0.3203 - accuracy: 0.9049 - val_loss: 0.8159 - val_accuracy: 0.7029\n",
      "Epoch 15/50\n",
      "203/203 - 1s - loss: 0.3218 - accuracy: 0.9021 - val_loss: 0.8294 - val_accuracy: 0.6971\n",
      "Epoch 16/50\n",
      "203/203 - 1s - loss: 0.3064 - accuracy: 0.9075 - val_loss: 0.8111 - val_accuracy: 0.6914\n",
      "Epoch 17/50\n",
      "203/203 - 1s - loss: 0.2985 - accuracy: 0.9065 - val_loss: 0.8279 - val_accuracy: 0.6971\n",
      "Epoch 18/50\n",
      "203/203 - 1s - loss: 0.2880 - accuracy: 0.9124 - val_loss: 0.8196 - val_accuracy: 0.6971\n",
      "Epoch 19/50\n",
      "203/203 - 1s - loss: 0.2866 - accuracy: 0.9093 - val_loss: 0.8229 - val_accuracy: 0.6914\n",
      "Epoch 20/50\n",
      "203/203 - 1s - loss: 0.2793 - accuracy: 0.9160 - val_loss: 0.8347 - val_accuracy: 0.6857\n",
      "Epoch 21/50\n",
      "203/203 - 1s - loss: 0.2751 - accuracy: 0.9174 - val_loss: 0.8170 - val_accuracy: 0.6914\n",
      "Epoch 22/50\n",
      "203/203 - 1s - loss: 0.2745 - accuracy: 0.9177 - val_loss: 0.8041 - val_accuracy: 0.6971\n",
      "Epoch 23/50\n",
      "203/203 - 1s - loss: 0.2617 - accuracy: 0.9194 - val_loss: 0.7976 - val_accuracy: 0.6971\n",
      "Epoch 24/50\n",
      "203/203 - 1s - loss: 0.2608 - accuracy: 0.9181 - val_loss: 0.8111 - val_accuracy: 0.6914\n",
      "Epoch 25/50\n",
      "203/203 - 1s - loss: 0.2549 - accuracy: 0.9220 - val_loss: 0.8179 - val_accuracy: 0.7029\n",
      "Epoch 26/50\n",
      "203/203 - 1s - loss: 0.2479 - accuracy: 0.9254 - val_loss: 0.8277 - val_accuracy: 0.6800\n",
      "Epoch 27/50\n",
      "203/203 - 1s - loss: 0.2488 - accuracy: 0.9205 - val_loss: 0.8219 - val_accuracy: 0.7029\n",
      "Epoch 28/50\n",
      "203/203 - 1s - loss: 0.2412 - accuracy: 0.9251 - val_loss: 0.8192 - val_accuracy: 0.6914\n",
      "Epoch 29/50\n",
      "203/203 - 1s - loss: 0.2385 - accuracy: 0.9251 - val_loss: 0.8176 - val_accuracy: 0.6971\n",
      "Epoch 30/50\n",
      "203/203 - 1s - loss: 0.2325 - accuracy: 0.9286 - val_loss: 0.8561 - val_accuracy: 0.6686\n",
      "Epoch 31/50\n",
      "203/203 - 1s - loss: 0.2315 - accuracy: 0.9263 - val_loss: 0.8455 - val_accuracy: 0.6686\n",
      "Epoch 32/50\n",
      "203/203 - 1s - loss: 0.2252 - accuracy: 0.9302 - val_loss: 0.8303 - val_accuracy: 0.6800\n",
      "Epoch 33/50\n",
      "203/203 - 1s - loss: 0.2238 - accuracy: 0.9293 - val_loss: 0.8093 - val_accuracy: 0.6800\n",
      "Epoch 34/50\n",
      "203/203 - 1s - loss: 0.2240 - accuracy: 0.9296 - val_loss: 0.8274 - val_accuracy: 0.6857\n",
      "Epoch 35/50\n",
      "203/203 - 1s - loss: 0.2145 - accuracy: 0.9337 - val_loss: 0.8021 - val_accuracy: 0.6800\n",
      "Epoch 36/50\n",
      "203/203 - 1s - loss: 0.2131 - accuracy: 0.9337 - val_loss: 0.8209 - val_accuracy: 0.6743\n",
      "Epoch 37/50\n",
      "203/203 - 1s - loss: 0.2163 - accuracy: 0.9345 - val_loss: 0.8331 - val_accuracy: 0.6800\n",
      "Epoch 38/50\n",
      "203/203 - 1s - loss: 0.2081 - accuracy: 0.9376 - val_loss: 0.8288 - val_accuracy: 0.6857\n",
      "Epoch 39/50\n",
      "203/203 - 1s - loss: 0.2045 - accuracy: 0.9388 - val_loss: 0.8232 - val_accuracy: 0.6857\n",
      "Epoch 40/50\n",
      "203/203 - 1s - loss: 0.2018 - accuracy: 0.9382 - val_loss: 0.8301 - val_accuracy: 0.6743\n",
      "Epoch 41/50\n",
      "203/203 - 1s - loss: 0.2048 - accuracy: 0.9353 - val_loss: 0.8369 - val_accuracy: 0.6800\n",
      "Epoch 42/50\n",
      "203/203 - 1s - loss: 0.1978 - accuracy: 0.9391 - val_loss: 0.8171 - val_accuracy: 0.6743\n",
      "Epoch 43/50\n",
      "203/203 - 1s - loss: 0.1963 - accuracy: 0.9419 - val_loss: 0.8523 - val_accuracy: 0.6800\n",
      "Epoch 44/50\n",
      "203/203 - 1s - loss: 0.1946 - accuracy: 0.9404 - val_loss: 0.8441 - val_accuracy: 0.6743\n",
      "Epoch 45/50\n",
      "203/203 - 1s - loss: 0.1864 - accuracy: 0.9461 - val_loss: 0.8288 - val_accuracy: 0.6743\n",
      "Epoch 46/50\n",
      "203/203 - 1s - loss: 0.1920 - accuracy: 0.9422 - val_loss: 0.8499 - val_accuracy: 0.6743\n",
      "Epoch 47/50\n",
      "203/203 - 1s - loss: 0.1911 - accuracy: 0.9445 - val_loss: 0.8347 - val_accuracy: 0.6743\n",
      "Epoch 48/50\n",
      "203/203 - 1s - loss: 0.1883 - accuracy: 0.9418 - val_loss: 0.8410 - val_accuracy: 0.6857\n",
      "Epoch 49/50\n",
      "203/203 - 1s - loss: 0.1858 - accuracy: 0.9415 - val_loss: 0.8413 - val_accuracy: 0.6743\n",
      "Epoch 50/50\n",
      "203/203 - 1s - loss: 0.1819 - accuracy: 0.9456 - val_loss: 0.8328 - val_accuracy: 0.6971\n"
     ]
    },
    {
     "data": {
      "image/png": "[encoded data removed]",
      "text/plain": [
       "<Figure size 864x360 with 2 Axes>"
      ]
     },
     "metadata": {
      "needs_background": "light"
     },
     "output_type": "display_data"
    }
   ],
   "source": [
    "#Preforming the training by using fit \n",
    "#--------------------------Impelment your code here:-------------------------------------\n",
    "\n",
    "history_5 = new_a_model.fit(BaseX_train, BaseY_train, batch_size=batch_size, epochs=epochs, verbose=2, validation_data=(X_test, Y_test))\n",
    "\n",
    "fig, axs = plt.subplots(1, 2, figsize=(12,5))\n",
    "\n",
    "axs[0].plot(history_5.history['accuracy'])\n",
    "axs[0].plot(history_5.history['val_accuracy'])\n",
    "axs[0].set_title('model accuracy')\n",
    "axs[0].set_ylabel('accuracy')\n",
    "axs[0].set_xlabel('epoch')\n",
    "axs[0].legend(['train', 'test'], loc='lower right')\n",
    "\n",
    "axs[1].plot(history_5.history['loss'])\n",
    "axs[1].plot(history_5.history['val_loss'])\n",
    "axs[1].set_title('model loss')\n",
    "axs[1].set_ylabel('loss')\n",
    "axs[1].set_xlabel('epoch')\n",
    "axs[1].legend(['train', 'test'], loc='upper right')\n",
    "\n",
    "plt.tight_layout()\n",
    "#----------------------------------------------------------------------------------------"
   ]
  },
  {
   "cell_type": "markdown",
   "metadata": {},
   "source": [
    "### PART 2: Convolutional Neural Network (CNN)\n",
    "------------------------------------------------------------------------------------"
   ]
  },
  {
   "cell_type": "markdown",
   "metadata": {},
   "source": [
    "---\n",
    "<span style=\"color:red\">***Task 1:***</span> *2D CNN.* \n",
    "\n",
    "Have a look at the model below and answer the following:\n",
    "* How many layers does it have?\n",
    "* How many filter in each layer?\n",
    "* Would the number of parmaters be similar to a fully connected NN?\n",
    "* Is this specific NN performing regularization?\n",
    "\n",
    "---"
   ]
  },
  {
   "cell_type": "code",
   "execution_count": 65,
   "metadata": {},
   "outputs": [],
   "source": [
    "def get_net(input_shape,drop,dropRate,reg):\n",
    "    #Defining the network architecture:\n",
    "    model = Sequential()\n",
    "    model.add(Permute((1,2,3),input_shape = input_shape))\n",
    "    model.add(Conv2D(filters=64, kernel_size=(3,3), padding='same', activation='relu',name='Conv2D_1',kernel_regularizer=regularizers.l2(reg)))\n",
    "    if drop:\n",
    "        model.add(Dropout(rate=dropRate))\n",
    "    model.add(BatchNormalization(axis=1))\n",
    "    model.add(MaxPooling2D(pool_size=(2, 2)))\n",
    "    model.add(Conv2D(filters=128, kernel_size=(3,3), padding='same', activation='relu',name='Conv2D_2',kernel_regularizer=regularizers.l2(reg)))\n",
    "    if drop:    \n",
    "        model.add(Dropout(rate=dropRate))\n",
    "    model.add(BatchNormalization(axis=1))\n",
    "    model.add(Conv2D(filters=128, kernel_size=(3,3), padding='same', activation='relu',name='Conv2D_3',kernel_regularizer=regularizers.l2(reg)))\n",
    "    if drop:\n",
    "        model.add(Dropout(rate=dropRate))\n",
    "    model.add(BatchNormalization(axis=1))\n",
    "    model.add(MaxPooling2D(pool_size=(2, 2)))\n",
    "    model.add(Conv2D(filters=256, kernel_size=(3,3), padding='same', activation='relu',name='Conv2D_4',kernel_regularizer=regularizers.l2(reg)))\n",
    "    if drop:\n",
    "        model.add(Dropout(rate=dropRate))\n",
    "    model.add(BatchNormalization(axis=1))\n",
    "    model.add(Conv2D(filters=256, kernel_size=(3,3), padding='same', activation='relu',name='Conv2D_5',kernel_regularizer=regularizers.l2(reg)))\n",
    "    if drop:\n",
    "        model.add(Dropout(rate=dropRate))\n",
    "    model.add(BatchNormalization(axis=1))\n",
    "    model.add(MaxPooling2D(pool_size=(2, 2)))\n",
    "    model.add(Flatten())\n",
    "    #Fully connected network tail:      \n",
    "    model.add(Dense(512, activation='elu',name='FCN_1')) \n",
    "    if drop:\n",
    "        model.add(Dropout(rate=dropRate))\n",
    "    model.add(Dense(128, activation='elu',name='FCN_2'))\n",
    "    model.add(Dense(4, activation= 'softmax',name='FCN_3'))\n",
    "    model.summary()\n",
    "    return model"
   ]
  },
  {
   "cell_type": "code",
   "execution_count": 66,
   "metadata": {},
   "outputs": [
    {
     "name": "stdout",
     "output_type": "stream",
     "text": [
      "Model: \"sequential\"\n",
      "_________________________________________________________________\n",
      "Layer (type)                 Output Shape              Param #   \n",
      "=================================================================\n",
      "permute (Permute)            (None, 32, 32, 1)         0         \n",
      "_________________________________________________________________\n",
      "Conv2D_1 (Conv2D)            (None, 32, 32, 64)        640       \n",
      "_________________________________________________________________\n",
      "dropout (Dropout)            (None, 32, 32, 64)        0         \n",
      "_________________________________________________________________\n",
      "batch_normalization_2 (Batch (None, 32, 32, 64)        128       \n",
      "_________________________________________________________________\n",
      "max_pooling2d (MaxPooling2D) (None, 16, 16, 64)        0         \n",
      "_________________________________________________________________\n",
      "Conv2D_2 (Conv2D)            (None, 16, 16, 128)       73856     \n",
      "_________________________________________________________________\n",
      "dropout_1 (Dropout)          (None, 16, 16, 128)       0         \n",
      "_________________________________________________________________\n",
      "batch_normalization_3 (Batch (None, 16, 16, 128)       64        \n",
      "_________________________________________________________________\n",
      "Conv2D_3 (Conv2D)            (None, 16, 16, 128)       147584    \n",
      "_________________________________________________________________\n",
      "dropout_2 (Dropout)          (None, 16, 16, 128)       0         \n",
      "_________________________________________________________________\n",
      "batch_normalization_4 (Batch (None, 16, 16, 128)       64        \n",
      "_________________________________________________________________\n",
      "max_pooling2d_1 (MaxPooling2 (None, 8, 8, 128)         0         \n",
      "_________________________________________________________________\n",
      "Conv2D_4 (Conv2D)            (None, 8, 8, 256)         295168    \n",
      "_________________________________________________________________\n",
      "dropout_3 (Dropout)          (None, 8, 8, 256)         0         \n",
      "_________________________________________________________________\n",
      "batch_normalization_5 (Batch (None, 8, 8, 256)         32        \n",
      "_________________________________________________________________\n",
      "Conv2D_5 (Conv2D)            (None, 8, 8, 256)         590080    \n",
      "_________________________________________________________________\n",
      "dropout_4 (Dropout)          (None, 8, 8, 256)         0         \n",
      "_________________________________________________________________\n",
      "batch_normalization_6 (Batch (None, 8, 8, 256)         32        \n",
      "_________________________________________________________________\n",
      "max_pooling2d_2 (MaxPooling2 (None, 4, 4, 256)         0         \n",
      "_________________________________________________________________\n",
      "flatten_1 (Flatten)          (None, 4096)              0         \n",
      "_________________________________________________________________\n",
      "FCN_1 (Dense)                (None, 512)               2097664   \n",
      "_________________________________________________________________\n",
      "dropout_5 (Dropout)          (None, 512)               0         \n",
      "_________________________________________________________________\n",
      "FCN_2 (Dense)                (None, 128)               65664     \n",
      "_________________________________________________________________\n",
      "FCN_3 (Dense)                (None, 4)                 516       \n",
      "=================================================================\n",
      "Total params: 3,271,492\n",
      "Trainable params: 3,271,332\n",
      "Non-trainable params: 160\n",
      "_________________________________________________________________\n"
     ]
    }
   ],
   "source": [
    "input_shape = (32,32,1)\n",
    "learn_rate = 1e-5\n",
    "decay = 1e-03\n",
    "batch_size = 64\n",
    "epochs = 25\n",
    "drop = True\n",
    "dropRate = 0.3\n",
    "reg = 1e-2\n",
    "keras.backend.clear_session()\n",
    "NNet = get_net(input_shape,drop,dropRate,reg)"
   ]
  },
  {
   "cell_type": "code",
   "execution_count": 67,
   "metadata": {
    "pycharm": {
     "is_executing": false
    }
   },
   "outputs": [],
   "source": [
    "from tensorflow.keras.optimizers import *\n",
    "import os\n",
    "from tensorflow.keras.callbacks import *\n",
    "\n",
    "#Defining the optimizar parameters:\n",
    "AdamOpt = Adam(lr=learn_rate,decay=decay)\n",
    "\n",
    "#Compile the network: \n",
    "NNet.compile(optimizer=AdamOpt, metrics=['acc'], loss='categorical_crossentropy')\n",
    "\n",
    "#Saving checkpoints during training:\n",
    "# Checkpath = os.getcwd()\n",
    "# Checkp = ModelCheckpoint(Checkpath, monitor='val_acc', verbose=1, save_best_only=True, save_weights_only=True, save_freq=1)"
   ]
  },
  {
   "cell_type": "code",
   "execution_count": 68,
   "metadata": {},
   "outputs": [
    {
     "name": "stdout",
     "output_type": "stream",
     "text": [
      "Epoch 1/25\n",
      "102/102 [==============================] - 184s 2s/step - loss: 8.0816 - acc: 0.4231 - val_loss: 8.1017 - val_acc: 0.2500\n",
      "Epoch 2/25\n",
      "102/102 [==============================] - 185s 2s/step - loss: 7.6366 - acc: 0.5244 - val_loss: 8.3556 - val_acc: 0.2500\n",
      "Epoch 3/25\n",
      "102/102 [==============================] - 175s 2s/step - loss: 7.4775 - acc: 0.5695 - val_loss: 8.7045 - val_acc: 0.2500\n",
      "Epoch 4/25\n",
      "102/102 [==============================] - 183s 2s/step - loss: 7.3486 - acc: 0.6089 - val_loss: 8.6322 - val_acc: 0.2494\n",
      "Epoch 5/25\n",
      "102/102 [==============================] - 177s 2s/step - loss: 7.2681 - acc: 0.6339 - val_loss: 8.5210 - val_acc: 0.2610\n",
      "Epoch 6/25\n",
      "102/102 [==============================] - 185s 2s/step - loss: 7.1981 - acc: 0.6454 - val_loss: 8.3423 - val_acc: 0.2795\n",
      "Epoch 7/25\n",
      "102/102 [==============================] - 189s 2s/step - loss: 7.1256 - acc: 0.6727 - val_loss: 8.1726 - val_acc: 0.3160\n",
      "Epoch 8/25\n",
      "102/102 [==============================] - 175s 2s/step - loss: 7.0776 - acc: 0.6833 - val_loss: 7.9958 - val_acc: 0.3524\n",
      "Epoch 9/25\n",
      "102/102 [==============================] - 175s 2s/step - loss: 7.0241 - acc: 0.7064 - val_loss: 7.9402 - val_acc: 0.3657\n",
      "Epoch 10/25\n",
      "102/102 [==============================] - 177s 2s/step - loss: 6.9899 - acc: 0.7132 - val_loss: 7.9055 - val_acc: 0.3773\n",
      "Epoch 11/25\n",
      "102/102 [==============================] - 181s 2s/step - loss: 6.9352 - acc: 0.7212 - val_loss: 7.8925 - val_acc: 0.3825\n",
      "Epoch 12/25\n",
      "102/102 [==============================] - 186s 2s/step - loss: 6.9140 - acc: 0.7291 - val_loss: 7.8968 - val_acc: 0.3918\n",
      "Epoch 13/25\n",
      "102/102 [==============================] - 172s 2s/step - loss: 6.8612 - acc: 0.7459 - val_loss: 7.8606 - val_acc: 0.3999\n",
      "Epoch 14/25\n",
      "102/102 [==============================] - 163s 2s/step - loss: 6.8288 - acc: 0.7479 - val_loss: 7.8484 - val_acc: 0.4016\n",
      "Epoch 15/25\n",
      "102/102 [==============================] - 157s 2s/step - loss: 6.7940 - acc: 0.7609 - val_loss: 7.8708 - val_acc: 0.4028\n",
      "Epoch 16/25\n",
      "102/102 [==============================] - 159s 2s/step - loss: 6.7618 - acc: 0.7655 - val_loss: 7.8639 - val_acc: 0.4051\n",
      "Epoch 17/25\n",
      "102/102 [==============================] - 161s 2s/step - loss: 6.7289 - acc: 0.7711 - val_loss: 7.8372 - val_acc: 0.4103\n",
      "Epoch 18/25\n",
      "102/102 [==============================] - 158s 2s/step - loss: 6.6989 - acc: 0.7794 - val_loss: 7.7513 - val_acc: 0.4230\n",
      "Epoch 19/25\n",
      "102/102 [==============================] - 157s 2s/step - loss: 6.6801 - acc: 0.7830 - val_loss: 7.7810 - val_acc: 0.4236\n",
      "Epoch 20/25\n",
      "102/102 [==============================] - 160s 2s/step - loss: 6.6409 - acc: 0.7910 - val_loss: 7.7833 - val_acc: 0.4242\n",
      "Epoch 21/25\n",
      "102/102 [==============================] - 158s 2s/step - loss: 6.6141 - acc: 0.7961 - val_loss: 7.7572 - val_acc: 0.4271\n",
      "Epoch 22/25\n",
      "102/102 [==============================] - 158s 2s/step - loss: 6.5981 - acc: 0.7941 - val_loss: 7.7454 - val_acc: 0.4271\n",
      "Epoch 23/25\n",
      "102/102 [==============================] - 158s 2s/step - loss: 6.5653 - acc: 0.8088 - val_loss: 7.7377 - val_acc: 0.4317\n",
      "Epoch 24/25\n",
      "102/102 [==============================] - 157s 2s/step - loss: 6.5471 - acc: 0.8049 - val_loss: 7.7414 - val_acc: 0.4311\n",
      "Epoch 25/25\n",
      "102/102 [==============================] - 157s 2s/step - loss: 6.5177 - acc: 0.8111 - val_loss: 7.7200 - val_acc: 0.4369\n"
     ]
    }
   ],
   "source": [
    "#Preforming the training by using fit \n",
    "# IMPORTANT NOTE: This will take a few minutes!\n",
    "history_6 = NNet.fit(x=BaseX_train, y=BaseY_train, batch_size=batch_size, epochs=epochs, verbose=1, validation_split=0, validation_data = (BaseX_val, BaseY_val), shuffle=True)\n",
    "#NNet.save(model_fn)"
   ]
  },
  {
   "cell_type": "code",
   "execution_count": 69,
   "metadata": {
    "pycharm": {
     "is_executing": false
    }
   },
   "outputs": [],
   "source": [
    "# NNet.load_weights('Weights_1.h5')"
   ]
  },
  {
   "cell_type": "code",
   "execution_count": 70,
   "metadata": {
    "pycharm": {
     "is_executing": false
    }
   },
   "outputs": [
    {
     "name": "stdout",
     "output_type": "stream",
     "text": [
      "6/6 [==============================] - 1s 109ms/step - loss: 8.1704 - acc: 0.3429\n",
      "test loss, test acc: [8.170429229736328, 0.34285715222358704]\n"
     ]
    }
   ],
   "source": [
    "results = NNet.evaluate(X_test,Y_test)\n",
    "print('test loss, test acc:', results)"
   ]
  },
  {
   "cell_type": "markdown",
   "metadata": {},
   "source": [
    "---\n",
    "<span style=\"color:red\">***Task 2:***</span> *Number of filters* \n",
    "\n",
    "Rebuild the function `get_net` to have as an input argument a list of number of filters in each layers, i.e. for the CNN defined above the input should have been `[64, 128, 128, 256, 256]`. Now train the model with the number of filters reduced by half. What were the results.\n",
    "\n",
    "---"
   ]
  },
  {
   "cell_type": "code",
   "execution_count": 72,
   "metadata": {},
   "outputs": [
    {
     "name": "stdout",
     "output_type": "stream",
     "text": [
      "Model: \"sequential\"\n",
      "_________________________________________________________________\n",
      "Layer (type)                 Output Shape              Param #   \n",
      "=================================================================\n",
      "permute (Permute)            (None, 32, 32, 1)         0         \n",
      "_________________________________________________________________\n",
      "Conv2D_0 (Conv2D)            (None, 32, 32, 32)        320       \n",
      "_________________________________________________________________\n",
      "dropout (Dropout)            (None, 32, 32, 32)        0         \n",
      "_________________________________________________________________\n",
      "batch_normalization (BatchNo (None, 32, 32, 32)        128       \n",
      "_________________________________________________________________\n",
      "max_pooling2d (MaxPooling2D) (None, 16, 16, 32)        0         \n",
      "_________________________________________________________________\n",
      "Conv2D_1 (Conv2D)            (None, 16, 16, 64)        18496     \n",
      "_________________________________________________________________\n",
      "dropout_1 (Dropout)          (None, 16, 16, 64)        0         \n",
      "_________________________________________________________________\n",
      "batch_normalization_1 (Batch (None, 16, 16, 64)        64        \n",
      "_________________________________________________________________\n",
      "Conv2D_2 (Conv2D)            (None, 16, 16, 64)        36928     \n",
      "_________________________________________________________________\n",
      "dropout_2 (Dropout)          (None, 16, 16, 64)        0         \n",
      "_________________________________________________________________\n",
      "batch_normalization_2 (Batch (None, 16, 16, 64)        64        \n",
      "_________________________________________________________________\n",
      "max_pooling2d_1 (MaxPooling2 (None, 8, 8, 64)          0         \n",
      "_________________________________________________________________\n",
      "Conv2D_3 (Conv2D)            (None, 8, 8, 128)         73856     \n",
      "_________________________________________________________________\n",
      "dropout_3 (Dropout)          (None, 8, 8, 128)         0         \n",
      "_________________________________________________________________\n",
      "batch_normalization_3 (Batch (None, 8, 8, 128)         32        \n",
      "_________________________________________________________________\n",
      "Conv2D_4 (Conv2D)            (None, 8, 8, 128)         147584    \n",
      "_________________________________________________________________\n",
      "dropout_4 (Dropout)          (None, 8, 8, 128)         0         \n",
      "_________________________________________________________________\n",
      "batch_normalization_4 (Batch (None, 8, 8, 128)         32        \n",
      "_________________________________________________________________\n",
      "max_pooling2d_2 (MaxPooling2 (None, 4, 4, 128)         0         \n",
      "_________________________________________________________________\n",
      "flatten (Flatten)            (None, 2048)              0         \n",
      "_________________________________________________________________\n",
      "FCN_1 (Dense)                (None, 512)               1049088   \n",
      "_________________________________________________________________\n",
      "dropout_5 (Dropout)          (None, 512)               0         \n",
      "_________________________________________________________________\n",
      "FCN_2 (Dense)                (None, 128)               65664     \n",
      "_________________________________________________________________\n",
      "FCN_3 (Dense)                (None, 4)                 516       \n",
      "=================================================================\n",
      "Total params: 1,392,772\n",
      "Trainable params: 1,392,612\n",
      "Non-trainable params: 160\n",
      "_________________________________________________________________\n",
      "Epoch 1/25\n",
      "102/102 [==============================] - 65s 641ms/step - loss: 4.9853 - acc: 0.3766 - val_loss: 4.8799 - val_acc: 0.2500\n",
      "Epoch 2/25\n",
      "102/102 [==============================] - 63s 622ms/step - loss: 4.6808 - acc: 0.4476 - val_loss: 5.2747 - val_acc: 0.2500\n",
      "Epoch 3/25\n",
      "102/102 [==============================] - 63s 613ms/step - loss: 4.5791 - acc: 0.4830 - val_loss: 5.4085 - val_acc: 0.2500\n",
      "Epoch 4/25\n",
      "102/102 [==============================] - 63s 614ms/step - loss: 4.5187 - acc: 0.5025 - val_loss: 5.3259 - val_acc: 0.2500\n",
      "Epoch 5/25\n",
      "102/102 [==============================] - 63s 622ms/step - loss: 4.4649 - acc: 0.5119 - val_loss: 5.1751 - val_acc: 0.2500\n",
      "Epoch 6/25\n",
      "102/102 [==============================] - 62s 608ms/step - loss: 4.4182 - acc: 0.5249 - val_loss: 5.0330 - val_acc: 0.2500\n",
      "Epoch 7/25\n",
      "102/102 [==============================] - 63s 619ms/step - loss: 4.4072 - acc: 0.5368 - val_loss: 4.9260 - val_acc: 0.2500\n",
      "Epoch 8/25\n",
      "102/102 [==============================] - 64s 630ms/step - loss: 4.3691 - acc: 0.5445 - val_loss: 4.8649 - val_acc: 0.2500\n",
      "Epoch 9/25\n",
      "102/102 [==============================] - 65s 636ms/step - loss: 4.3376 - acc: 0.5468 - val_loss: 4.8285 - val_acc: 0.2512\n",
      "Epoch 10/25\n",
      "102/102 [==============================] - 62s 612ms/step - loss: 4.3213 - acc: 0.5619 - val_loss: 4.8037 - val_acc: 0.2546\n",
      "Epoch 11/25\n",
      "102/102 [==============================] - 63s 614ms/step - loss: 4.3108 - acc: 0.5590 - val_loss: 4.7858 - val_acc: 0.2552\n",
      "Epoch 12/25\n",
      "102/102 [==============================] - 62s 610ms/step - loss: 4.2770 - acc: 0.5703 - val_loss: 4.7704 - val_acc: 0.2581\n",
      "Epoch 13/25\n",
      "102/102 [==============================] - 63s 616ms/step - loss: 4.2671 - acc: 0.5771 - val_loss: 4.7653 - val_acc: 0.2616\n",
      "Epoch 14/25\n",
      "102/102 [==============================] - 63s 620ms/step - loss: 4.2437 - acc: 0.5913 - val_loss: 4.7608 - val_acc: 0.2645\n",
      "Epoch 15/25\n",
      "102/102 [==============================] - 63s 614ms/step - loss: 4.2338 - acc: 0.5930 - val_loss: 4.7598 - val_acc: 0.2668\n",
      "Epoch 16/25\n",
      "102/102 [==============================] - 63s 614ms/step - loss: 4.2368 - acc: 0.5890 - val_loss: 4.7610 - val_acc: 0.2679\n",
      "Epoch 17/25\n",
      "102/102 [==============================] - 62s 613ms/step - loss: 4.1942 - acc: 0.6055 - val_loss: 4.7470 - val_acc: 0.2737\n",
      "Epoch 18/25\n",
      "102/102 [==============================] - 63s 614ms/step - loss: 4.1902 - acc: 0.6091 - val_loss: 4.7374 - val_acc: 0.2749\n",
      "Epoch 19/25\n",
      "102/102 [==============================] - 63s 613ms/step - loss: 4.1744 - acc: 0.6109 - val_loss: 4.7375 - val_acc: 0.2778\n",
      "Epoch 20/25\n",
      "102/102 [==============================] - 62s 610ms/step - loss: 4.1747 - acc: 0.6120 - val_loss: 4.7304 - val_acc: 0.2801\n",
      "Epoch 21/25\n",
      "102/102 [==============================] - 62s 612ms/step - loss: 4.1825 - acc: 0.6052 - val_loss: 4.7225 - val_acc: 0.2853\n",
      "Epoch 22/25\n",
      "102/102 [==============================] - 62s 608ms/step - loss: 4.1395 - acc: 0.6271 - val_loss: 4.7167 - val_acc: 0.2894\n",
      "Epoch 23/25\n",
      "102/102 [==============================] - 62s 612ms/step - loss: 4.1321 - acc: 0.6259 - val_loss: 4.7160 - val_acc: 0.2911\n",
      "Epoch 24/25\n",
      "102/102 [==============================] - 62s 611ms/step - loss: 4.1310 - acc: 0.6251 - val_loss: 4.7145 - val_acc: 0.2951\n",
      "Epoch 25/25\n",
      "102/102 [==============================] - 62s 612ms/step - loss: 4.1337 - acc: 0.6208 - val_loss: 4.7078 - val_acc: 0.3021\n",
      "6/6 [==============================] - 0s 49ms/step - loss: 4.9502 - acc: 0.2571\n",
      "test loss, test acc: [4.950228214263916, 0.2571428716182709]\n"
     ]
    }
   ],
   "source": [
    "#--------------------------Impelment your code here:-------------------------------------\n",
    "def get_net(input_shape,hidden_dim,drop,dropRate,reg):\n",
    "    #Defining the network architecture:\n",
    "    model = Sequential()\n",
    "    model.add(Permute((1,2,3),input_shape = input_shape))\n",
    "    \n",
    "    for i, h_dim in enumerate(hidden_dim):\n",
    "        model.add(Conv2D(filters=h_dim, kernel_size=(3,3), padding='same', activation='relu',name='Conv2D_{}'.format(i),kernel_regularizer=regularizers.l2(reg)))\n",
    "        if drop:\n",
    "            model.add(Dropout(rate=dropRate))\n",
    "        model.add(BatchNormalization(axis=1))\n",
    "        if i%2==0:\n",
    "            model.add(MaxPooling2D(pool_size=(2, 2)))\n",
    "   \n",
    "    model.add(Flatten())\n",
    "    #Fully connected network tail:      \n",
    "    model.add(Dense(512, activation='elu',name='FCN_1')) \n",
    "    if drop:\n",
    "        model.add(Dropout(rate=dropRate))\n",
    "    model.add(Dense(128, activation='elu',name='FCN_2'))\n",
    "    model.add(Dense(4, activation= 'softmax',name='FCN_3'))\n",
    "    model.summary()\n",
    "    return model\n",
    "\n",
    "\n",
    "hidden_dim = [32, 64, 64, 128, 128]\n",
    "keras.backend.clear_session()\n",
    "NNet_2 = get_net(input_shape,hidden_dim,drop,dropRate,reg)\n",
    "NNet_2.compile(optimizer=AdamOpt, metrics=['acc'], loss='categorical_crossentropy')\n",
    "history_7 = NNet_2.fit(x=BaseX_train, y=BaseY_train, batch_size=batch_size, epochs=epochs, verbose=1, validation_split=0, validation_data = (BaseX_val, BaseY_val), shuffle=True)\n",
    "results = NNet_2.evaluate(X_test,Y_test)\n",
    "print('test loss, test acc:', results)\n",
    "#----------------------------------------------------------------------------------------"
   ]
  },
  {
   "cell_type": "markdown",
   "metadata": {},
   "source": [
    "That's all folks! See you :)"
   ]
  }
 ],
 "metadata": {
  "kernelspec": {
   "display_name": "Python 3",
   "language": "python",
   "name": "python3"
  },
  "language_info": {
   "codemirror_mode": {
    "name": "ipython",
    "version": 3
   },
   "file_extension": ".py",
   "mimetype": "text/x-python",
   "name": "python",
   "nbconvert_exporter": "python",
   "pygments_lexer": "ipython3",
   "version": "3.7.9"
  },
  "pycharm": {
   "stem_cell": {
    "cell_type": "raw",
    "metadata": {
     "collapsed": false
    },
    "source": []
   }
  }
 },
 "nbformat": 4,
 "nbformat_minor": 4
}
